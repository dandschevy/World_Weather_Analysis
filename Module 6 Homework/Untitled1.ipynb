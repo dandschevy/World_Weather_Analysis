{
 "cells": [
  {
   "cell_type": "code",
   "execution_count": 8,
   "id": "71d3fb31-de73-4322-a9d2-87f4c3e6373f",
   "metadata": {},
   "outputs": [],
   "source": [
    "# Use the citipy module to determine city based on latitude and longitude.\n",
    "from citipy import citipy"
   ]
  },
  {
   "cell_type": "code",
   "execution_count": 9,
   "id": "c264523b-166d-4515-901c-88756a3240ab",
   "metadata": {},
   "outputs": [],
   "source": [
    "city = citipy.nearest_city(22.99, 120.21)\n"
   ]
  },
  {
   "cell_type": "code",
   "execution_count": 10,
   "id": "de0a96ed-cc2c-43bf-80ea-ce1d31316381",
   "metadata": {},
   "outputs": [
    {
     "ename": "NameError",
     "evalue": "name 'coordinates' is not defined",
     "output_type": "error",
     "traceback": [
      "\u001b[1;31m---------------------------------------------------------------------------\u001b[0m",
      "\u001b[1;31mNameError\u001b[0m                                 Traceback (most recent call last)",
      "\u001b[1;32m<ipython-input-10-e23cc05e297d>\u001b[0m in \u001b[0;36m<module>\u001b[1;34m\u001b[0m\n\u001b[0;32m      1\u001b[0m \u001b[1;31m# Use the tuple() function to display the latitude and longitude combinations.\u001b[0m\u001b[1;33m\u001b[0m\u001b[1;33m\u001b[0m\u001b[1;33m\u001b[0m\u001b[0m\n\u001b[1;32m----> 2\u001b[1;33m \u001b[1;32mfor\u001b[0m \u001b[0mcoordinate\u001b[0m \u001b[1;32min\u001b[0m \u001b[0mcoordinates\u001b[0m\u001b[1;33m:\u001b[0m\u001b[1;33m\u001b[0m\u001b[1;33m\u001b[0m\u001b[0m\n\u001b[0m\u001b[0;32m      3\u001b[0m     print(citipy.nearest_city(coordinate[0], coordinate[1]).city_name,\n\u001b[0;32m      4\u001b[0m           citipy.nearest_city(coordinate[0], coordinate[1]).country_code)\n",
      "\u001b[1;31mNameError\u001b[0m: name 'coordinates' is not defined"
     ]
    }
   ],
   "source": [
    "# Use the tuple() function to display the latitude and longitude combinations.\n",
    "for coordinate in coordinates:\n",
    "    print(citipy.nearest_city(coordinate[0], coordinate[1]).city_name,\n",
    "          citipy.nearest_city(coordinate[0], coordinate[1]).country_code)"
   ]
  },
  {
   "cell_type": "code",
   "execution_count": null,
   "id": "b40f2e02-52a3-40f6-a3d9-844cbc2d597d",
   "metadata": {},
   "outputs": [],
   "source": []
  },
  {
   "cell_type": "code",
   "execution_count": 11,
   "id": "6410bd6c-7eb9-4c30-8e88-16d086c7fe50",
   "metadata": {},
   "outputs": [
    {
     "ename": "NameError",
     "evalue": "name '__file__' is not defined",
     "output_type": "error",
     "traceback": [
      "\u001b[1;31m---------------------------------------------------------------------------\u001b[0m",
      "\u001b[1;31mNameError\u001b[0m                                 Traceback (most recent call last)",
      "\u001b[1;32m<ipython-input-11-4cf430d67627>\u001b[0m in \u001b[0;36m<module>\u001b[1;34m\u001b[0m\n\u001b[0;32m     15\u001b[0m \u001b[1;33m\u001b[0m\u001b[0m\n\u001b[0;32m     16\u001b[0m \u001b[1;31m# load the city data up\u001b[0m\u001b[1;33m\u001b[0m\u001b[1;33m\u001b[0m\u001b[1;33m\u001b[0m\u001b[0m\n\u001b[1;32m---> 17\u001b[1;33m \u001b[0m_current_dir\u001b[0m\u001b[1;33m,\u001b[0m \u001b[0m_current_filename\u001b[0m \u001b[1;33m=\u001b[0m \u001b[0mos\u001b[0m\u001b[1;33m.\u001b[0m\u001b[0mpath\u001b[0m\u001b[1;33m.\u001b[0m\u001b[0msplit\u001b[0m\u001b[1;33m(\u001b[0m\u001b[0m__file__\u001b[0m\u001b[1;33m)\u001b[0m\u001b[1;33m\u001b[0m\u001b[1;33m\u001b[0m\u001b[0m\n\u001b[0m\u001b[0;32m     18\u001b[0m \u001b[0m_world_cities_csv_path\u001b[0m \u001b[1;33m=\u001b[0m \u001b[0mos\u001b[0m\u001b[1;33m.\u001b[0m\u001b[0mpath\u001b[0m\u001b[1;33m.\u001b[0m\u001b[0mjoin\u001b[0m\u001b[1;33m(\u001b[0m\u001b[0m_current_dir\u001b[0m\u001b[1;33m,\u001b[0m \u001b[1;34m'worldcities.csv'\u001b[0m\u001b[1;33m)\u001b[0m\u001b[1;33m\u001b[0m\u001b[1;33m\u001b[0m\u001b[0m\n\u001b[0;32m     19\u001b[0m \u001b[0m_world_cities_kdtree\u001b[0m \u001b[1;33m=\u001b[0m \u001b[0mkdtree\u001b[0m\u001b[1;33m.\u001b[0m\u001b[0mcreate\u001b[0m\u001b[1;33m(\u001b[0m\u001b[0mdimensions\u001b[0m\u001b[1;33m=\u001b[0m\u001b[1;36m2\u001b[0m\u001b[1;33m)\u001b[0m\u001b[1;33m\u001b[0m\u001b[1;33m\u001b[0m\u001b[0m\n",
      "\u001b[1;31mNameError\u001b[0m: name '__file__' is not defined"
     ]
    }
   ],
   "source": [
    "import csv\n",
    "import kdtree\n",
    "import os\n",
    "\n",
    "\n",
    "class City:\n",
    "    '''\n",
    "    City wraps up the info about a city, including its name, coordinates,\n",
    "    and belonging country.\n",
    "    '''\n",
    "    def __init__(self, city_name, country_code):\n",
    "        self.city_name = city_name\n",
    "        self.country_code = country_code\n",
    "\n",
    "\n",
    "# load the city data up\n",
    "_current_dir, _current_filename = os.path.split(__file__)\n",
    "_world_cities_csv_path = os.path.join(_current_dir, 'worldcities.csv')\n",
    "_world_cities_kdtree = kdtree.create(dimensions=2)\n",
    "WORLD_CITIES_DICT = {}\n",
    "\n",
    "with open(_world_cities_csv_path, 'r') as csv_file:\n",
    "    cities = csv.reader(csv_file)\n",
    "\n",
    "    # discard the headers\n",
    "    cities.__next__()\n",
    "\n",
    "    # populate geo points into kdtree\n",
    "    for city in cities:\n",
    "        city_coordinate_key = (float(city[2]), float(city[3]))\n",
    "        _world_cities_kdtree.add(city_coordinate_key)\n",
    "        c = City(city[1], city[0])\n",
    "        WORLD_CITIES_DICT[city_coordinate_key] = c\n",
    "\n",
    "\n",
    "def nearest_city(latitude, longitude):\n",
    "    nearest_city_coordinate = _world_cities_kdtree.search_nn((latitude, longitude, ))\n",
    "    return WORLD_CITIES_DICT[nearest_city_coordinate[0].data]"
   ]
  },
  {
   "cell_type": "code",
   "execution_count": null,
   "id": "2513d841-b6bc-4271-81c5-bbded6d653c8",
   "metadata": {},
   "outputs": [],
   "source": []
  },
  {
   "cell_type": "code",
   "execution_count": null,
   "id": "1757cb79-ad2b-4d2d-938a-8c1ba0460ad7",
   "metadata": {},
   "outputs": [],
   "source": []
  },
  {
   "cell_type": "code",
   "execution_count": null,
   "id": "23f2ac3e-44a1-4577-bbbe-0363c64b535f",
   "metadata": {},
   "outputs": [],
   "source": []
  }
 ],
 "metadata": {
  "kernelspec": {
   "display_name": "Python 3",
   "language": "python",
   "name": "python3"
  },
  "language_info": {
   "codemirror_mode": {
    "name": "ipython",
    "version": 3
   },
   "file_extension": ".py",
   "mimetype": "text/x-python",
   "name": "python",
   "nbconvert_exporter": "python",
   "pygments_lexer": "ipython3",
   "version": "3.8.8"
  }
 },
 "nbformat": 4,
 "nbformat_minor": 5
}
